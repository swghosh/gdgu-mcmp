{
 "cells": [
  {
   "cell_type": "markdown",
   "metadata": {},
   "source": [
    "# Background Service Worker"
   ]
  },
  {
   "cell_type": "code",
   "execution_count": 1,
   "metadata": {},
   "outputs": [
    {
     "name": "stdout",
     "output_type": "stream",
     "text": [
      "Requirement already satisfied: pymongo in /anaconda3/lib/python3.6/site-packages (3.7.1)\n",
      "Requirement already satisfied: dnspython in /anaconda3/lib/python3.6/site-packages (1.15.0)\n"
     ]
    }
   ],
   "source": [
    "!pip install pymongo\n",
    "!pip install dnspython"
   ]
  },
  {
   "cell_type": "markdown",
   "metadata": {},
   "source": [
    "Import python packages."
   ]
  },
  {
   "cell_type": "code",
   "execution_count": 1,
   "metadata": {},
   "outputs": [],
   "source": [
    "from urllib import request\n",
    "from pymongo import MongoClient\n",
    "import json\n",
    "from datetime import datetime\n",
    "import time\n",
    "import os\n",
    "import sys"
   ]
  },
  {
   "cell_type": "markdown",
   "metadata": {},
   "source": [
    "Get mongoDB database URL."
   ]
  },
  {
   "cell_type": "code",
   "execution_count": 2,
   "metadata": {},
   "outputs": [],
   "source": [
    "authFile = open(os.path.join('.', 'authfile.json'), 'r')\n",
    "authFileContents = ''\n",
    "\n",
    "for line in authFile:\n",
    "    authFileContents = authFileContents + line\n",
    "\n",
    "authParams = json.loads(authFileContents)\n",
    "\n",
    "mongoHost = str(authParams['mongoHost'])\n",
    "mongoUsername = str(authParams['mongoUsername'])\n",
    "mongoPassword = str(authParams['mongoPassword'])\n",
    "mongoDbName = str(authParams['mongoDbName'])\n",
    "\n",
    "mongoCollectionName = 'sensorData'"
   ]
  },
  {
   "cell_type": "markdown",
   "metadata": {},
   "source": [
    "Get API call URL details."
   ]
  },
  {
   "cell_type": "code",
   "execution_count": 3,
   "metadata": {},
   "outputs": [],
   "source": [
    "apiHost = 'swghosh.pythonanywhere.com'\n",
    "apiPort = 80\n",
    "apiURI = '/gdgu-mcmp/api/sensorData'\n",
    "\n",
    "mongoURL = 'mongodb+srv://' + mongoUsername + ':' + mongoPassword + '@' + mongoHost + '/' + mongoDbName\n",
    "\n",
    "# http urls that contain port 80 explicitly in it fails when urllib.request.urlopen(URL), appropriate fix\n",
    "if not apiPort == 80:\n",
    "    apiURL = 'http://' + apiHost + ':' + str(apiPort) + apiURI\n",
    "else:\n",
    "    apiURL = 'http://' + apiHost + apiURI"
   ]
  },
  {
   "cell_type": "markdown",
   "metadata": {},
   "source": [
    "Set time frequency in seconds."
   ]
  },
  {
   "cell_type": "code",
   "execution_count": 4,
   "metadata": {},
   "outputs": [],
   "source": [
    "timeFrequency = 5"
   ]
  },
  {
   "cell_type": "markdown",
   "metadata": {},
   "source": [
    "Continously run the background service."
   ]
  },
  {
   "cell_type": "code",
   "execution_count": null,
   "metadata": {
    "scrolled": true
   },
   "outputs": [
    {
     "name": "stdout",
     "output_type": "stream",
     "text": [
      "2018-09-02 21:04:16.776207 - - [inserted to db collection] [{'timestamp': '2018-09-02T15:34:05.127835', 'latitude': 28.2699415, 'longitude': 77.0636767, 'sensorChannel': {'name': 'GROUND-QUAL-SENSORS', 'id': 'g-channel'}, 'sensorData': {'soilMoist': {'value': 39, 'unit': 'mg/dL'}}, '_id': ObjectId('5b8c02ed5ccb0b3a63fef1e1')}, {'timestamp': '2018-09-02T15:34:05.127971', 'latitude': 28.2699415, 'longitude': 77.0636767, 'sensorChannel': {'name': 'AIR-QUAL-SENSORS', 'id': 'h-channel'}, 'sensorData': {'coTwoConc': {'value': 691, 'unit': 'mg/dL'}}, '_id': ObjectId('5b8c02ed5ccb0b3a63fef1e2')}]\n",
      "2018-09-02 21:04:35.207042 - - [inserted to db collection] [{'timestamp': '2018-09-02T15:34:22.467790', 'latitude': 28.2699415, 'longitude': 77.0636767, 'sensorChannel': {'name': 'GROUND-QUAL-SENSORS', 'id': 'g-channel'}, 'sensorData': {'soilMoist': {'value': 70, 'unit': 'mg/dL'}}, '_id': ObjectId('5b8c02ff5ccb0b3a63fef1e4')}, {'timestamp': '2018-09-02T15:34:22.467816', 'latitude': 28.2699415, 'longitude': 77.0636767, 'sensorChannel': {'name': 'AIR-QUAL-SENSORS', 'id': 'h-channel'}, 'sensorData': {'coTwoConc': {'value': 993, 'unit': 'mg/dL'}}, '_id': ObjectId('5b8c02ff5ccb0b3a63fef1e5')}]\n",
      "2018-09-02 21:04:56.403782 - - [inserted to db collection] [{'timestamp': '2018-09-02T15:34:41.332384', 'latitude': 28.2699415, 'longitude': 77.0636767, 'sensorChannel': {'name': 'GROUND-QUAL-SENSORS', 'id': 'g-channel'}, 'sensorData': {'soilMoist': {'value': 606, 'unit': 'mg/dL'}}, '_id': ObjectId('5b8c03125ccb0b3a63fef1e7')}, {'timestamp': '2018-09-02T15:34:41.332413', 'latitude': 28.2699415, 'longitude': 77.0636767, 'sensorChannel': {'name': 'AIR-QUAL-SENSORS', 'id': 'h-channel'}, 'sensorData': {'coTwoConc': {'value': 886, 'unit': 'mg/dL'}}, '_id': ObjectId('5b8c03125ccb0b3a63fef1e8')}]\n",
      "2018-09-02 21:05:16.199558 - - [inserted to db collection] [{'timestamp': '2018-09-02T15:35:02.557046', 'latitude': 28.2699415, 'longitude': 77.0636767, 'sensorChannel': {'name': 'GROUND-QUAL-SENSORS', 'id': 'g-channel'}, 'sensorData': {'soilMoist': {'value': 883, 'unit': 'mg/dL'}}, '_id': ObjectId('5b8c03275ccb0b3a63fef1ea')}, {'timestamp': '2018-09-02T15:35:02.557080', 'latitude': 28.2699415, 'longitude': 77.0636767, 'sensorChannel': {'name': 'AIR-QUAL-SENSORS', 'id': 'h-channel'}, 'sensorData': {'coTwoConc': {'value': 144, 'unit': 'mg/dL'}}, '_id': ObjectId('5b8c03275ccb0b3a63fef1eb')}]\n"
     ]
    }
   ],
   "source": [
    "while True:\n",
    "    try:\n",
    "        client = MongoClient(mongoURL)\n",
    "\n",
    "        db = client[mongoDbName]\n",
    "\n",
    "        jsonRecvd = request.urlopen(apiURL).read().decode('utf-8')\n",
    "\n",
    "        sensorData = json.loads(jsonRecvd)\n",
    "\n",
    "        db[mongoCollectionName].insert_many(sensorData)\n",
    "\n",
    "        client.close()\n",
    "\n",
    "        print(str(datetime.now()) + ' - - [inserted to db collection] ' + str(sensorData))\n",
    "\n",
    "    except KeyboardInterrupt:\n",
    "        pass\n",
    "    except Exception as exception:\n",
    "        print(str(datetime.now()) + ' - - [error occured] ' + '\\nRetrying in ' + str(timeFrequency) + ' seconds.', exception, file = sys.stderr)\n",
    "    time.sleep(timeFrequency)"
   ]
  },
  {
   "cell_type": "markdown",
   "metadata": {},
   "source": [
    "Service should keep logging sensorData."
   ]
  }
 ],
 "metadata": {
  "kernelspec": {
   "display_name": "Python 3",
   "language": "python",
   "name": "python3"
  },
  "language_info": {
   "codemirror_mode": {
    "name": "ipython",
    "version": 3
   },
   "file_extension": ".py",
   "mimetype": "text/x-python",
   "name": "python",
   "nbconvert_exporter": "python",
   "pygments_lexer": "ipython3",
   "version": "3.6.5"
  }
 },
 "nbformat": 4,
 "nbformat_minor": 2
}
